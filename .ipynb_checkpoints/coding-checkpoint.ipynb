{
 "cells": [
  {
   "cell_type": "code",
   "execution_count": 46,
   "metadata": {},
   "outputs": [],
   "source": [
    "# import libraries\n",
    "\n",
    "import pandas as pd\n",
    "import numpy as np\n",
    "import scipy.stats as st\n",
    "from sqlalchemy import create_engine\n",
    "import matplotlib.pyplot as plt\n",
    "import seaborn as sns\n",
    "import time\n",
    "import datetime\n",
    "import scipy.stats as st\n",
    "\n"
   ]
  },
  {
   "cell_type": "code",
   "execution_count": 2,
   "metadata": {},
   "outputs": [],
   "source": [
    "# retrieving the data from xls\n",
    "\n",
    "data = pd.read_csv('data-collection.csv')"
   ]
  },
  {
   "cell_type": "code",
   "execution_count": 3,
   "metadata": {},
   "outputs": [
    {
     "data": {
      "text/html": [
       "<div>\n",
       "<style scoped>\n",
       "    .dataframe tbody tr th:only-of-type {\n",
       "        vertical-align: middle;\n",
       "    }\n",
       "\n",
       "    .dataframe tbody tr th {\n",
       "        vertical-align: top;\n",
       "    }\n",
       "\n",
       "    .dataframe thead th {\n",
       "        text-align: right;\n",
       "    }\n",
       "</style>\n",
       "<table border=\"1\" class=\"dataframe\">\n",
       "  <thead>\n",
       "    <tr style=\"text-align: right;\">\n",
       "      <th></th>\n",
       "      <th>Time</th>\n",
       "      <th>Group</th>\n",
       "      <th>Age</th>\n",
       "      <th>Confidence</th>\n",
       "      <th>Gender</th>\n",
       "      <th>Bag Size</th>\n",
       "    </tr>\n",
       "  </thead>\n",
       "  <tbody>\n",
       "    <tr>\n",
       "      <th>0</th>\n",
       "      <td>10:50</td>\n",
       "      <td>1</td>\n",
       "      <td>70</td>\n",
       "      <td>95</td>\n",
       "      <td>F</td>\n",
       "      <td>Medium</td>\n",
       "    </tr>\n",
       "    <tr>\n",
       "      <th>1</th>\n",
       "      <td>10:52</td>\n",
       "      <td>1</td>\n",
       "      <td>60</td>\n",
       "      <td>90</td>\n",
       "      <td>F</td>\n",
       "      <td>Large</td>\n",
       "    </tr>\n",
       "    <tr>\n",
       "      <th>2</th>\n",
       "      <td>10:53</td>\n",
       "      <td>1</td>\n",
       "      <td>70</td>\n",
       "      <td>95</td>\n",
       "      <td>M</td>\n",
       "      <td>Small</td>\n",
       "    </tr>\n",
       "    <tr>\n",
       "      <th>3</th>\n",
       "      <td>10:53</td>\n",
       "      <td>1</td>\n",
       "      <td>50</td>\n",
       "      <td>95</td>\n",
       "      <td>M</td>\n",
       "      <td>Large</td>\n",
       "    </tr>\n",
       "    <tr>\n",
       "      <th>4</th>\n",
       "      <td>10:56</td>\n",
       "      <td>1</td>\n",
       "      <td>60</td>\n",
       "      <td>90</td>\n",
       "      <td>F</td>\n",
       "      <td>Medium</td>\n",
       "    </tr>\n",
       "  </tbody>\n",
       "</table>\n",
       "</div>"
      ],
      "text/plain": [
       "    Time  Group  Age  Confidence Gender Bag Size\n",
       "0  10:50      1   70          95      F   Medium\n",
       "1  10:52      1   60          90      F    Large\n",
       "2  10:53      1   70          95      M    Small\n",
       "3  10:53      1   50          95      M    Large\n",
       "4  10:56      1   60          90      F   Medium"
      ]
     },
     "execution_count": 3,
     "metadata": {},
     "output_type": "execute_result"
    }
   ],
   "source": [
    "data.head()"
   ]
  },
  {
   "cell_type": "code",
   "execution_count": 4,
   "metadata": {},
   "outputs": [],
   "source": [
    "# loading the data into mysql\n",
    "\n",
    "host=\"localhost\"\n",
    "port=3306\n",
    "dbname=\"project6\"\n",
    "user=\"root\"\n",
    "password=\"1234\"\n",
    "\n",
    "\n",
    "\n",
    "engine = create_engine('mysql+mysqlconnector://{0}:{1}@{2}/{3}'\n",
    "            .format(user, password,host, dbname)).connect()\n"
   ]
  },
  {
   "cell_type": "code",
   "execution_count": 5,
   "metadata": {},
   "outputs": [],
   "source": [
    "data.to_sql('supermarket', con = engine,if_exists = 'replace')"
   ]
  },
  {
   "cell_type": "code",
   "execution_count": 6,
   "metadata": {},
   "outputs": [],
   "source": [
    "# extracting the data\n",
    "\n",
    "query = pd.read_sql_query(\"\"\"SELECT * FROM supermarket;\n",
    "\"\"\", engine)\n",
    "\n",
    "data = query"
   ]
  },
  {
   "cell_type": "code",
   "execution_count": 8,
   "metadata": {},
   "outputs": [],
   "source": [
    "# Data Cleaning\n",
    "\n",
    "def agegroup(row):\n",
    "    if row >= 70:\n",
    "        return 'Old'\n",
    "    elif row <= 30:\n",
    "        return 'Young'\n",
    "    else:\n",
    "        return 'Middle Aged'\n",
    "    "
   ]
  },
  {
   "cell_type": "code",
   "execution_count": 10,
   "metadata": {},
   "outputs": [
    {
     "data": {
      "text/plain": [
       "Middle Aged    72\n",
       "Young          22\n",
       "Old            19\n",
       "Name: Age group, dtype: int64"
      ]
     },
     "execution_count": 10,
     "metadata": {},
     "output_type": "execute_result"
    }
   ],
   "source": [
    "data['Age group'] = data['Age'].apply(agegroup)\n",
    "\n",
    "data['Age group'].value_counts()"
   ]
  },
  {
   "cell_type": "code",
   "execution_count": 17,
   "metadata": {},
   "outputs": [],
   "source": [
    "def daytime(row):\n",
    "    date_time_obj = datetime.datetime.strptime(row, '%H:%M')\n",
    "\n",
    "    if date_time_obj <= datetime.datetime.strptime('12:00', '%H:%M'):\n",
    "        return 'Morning'\n",
    "    elif date_time_obj >= datetime.datetime.strptime('19:00', '%H:%M'):\n",
    "        return 'Night'\n",
    "    else:\n",
    "        return 'Afternoon'\n"
   ]
  },
  {
   "cell_type": "code",
   "execution_count": 18,
   "metadata": {},
   "outputs": [
    {
     "data": {
      "text/html": [
       "<div>\n",
       "<style scoped>\n",
       "    .dataframe tbody tr th:only-of-type {\n",
       "        vertical-align: middle;\n",
       "    }\n",
       "\n",
       "    .dataframe tbody tr th {\n",
       "        vertical-align: top;\n",
       "    }\n",
       "\n",
       "    .dataframe thead th {\n",
       "        text-align: right;\n",
       "    }\n",
       "</style>\n",
       "<table border=\"1\" class=\"dataframe\">\n",
       "  <thead>\n",
       "    <tr style=\"text-align: right;\">\n",
       "      <th></th>\n",
       "      <th>index</th>\n",
       "      <th>Time</th>\n",
       "      <th>Group</th>\n",
       "      <th>Age</th>\n",
       "      <th>Confidence</th>\n",
       "      <th>Gender</th>\n",
       "      <th>Bag Size</th>\n",
       "      <th>Age group</th>\n",
       "      <th>Time of the Day</th>\n",
       "    </tr>\n",
       "  </thead>\n",
       "  <tbody>\n",
       "    <tr>\n",
       "      <th>0</th>\n",
       "      <td>0</td>\n",
       "      <td>10:50</td>\n",
       "      <td>1</td>\n",
       "      <td>70</td>\n",
       "      <td>95</td>\n",
       "      <td>F</td>\n",
       "      <td>Medium</td>\n",
       "      <td>Old</td>\n",
       "      <td>Morning</td>\n",
       "    </tr>\n",
       "    <tr>\n",
       "      <th>1</th>\n",
       "      <td>1</td>\n",
       "      <td>10:52</td>\n",
       "      <td>1</td>\n",
       "      <td>60</td>\n",
       "      <td>90</td>\n",
       "      <td>F</td>\n",
       "      <td>Large</td>\n",
       "      <td>Middle Aged</td>\n",
       "      <td>Morning</td>\n",
       "    </tr>\n",
       "    <tr>\n",
       "      <th>2</th>\n",
       "      <td>2</td>\n",
       "      <td>10:53</td>\n",
       "      <td>1</td>\n",
       "      <td>70</td>\n",
       "      <td>95</td>\n",
       "      <td>M</td>\n",
       "      <td>Small</td>\n",
       "      <td>Old</td>\n",
       "      <td>Morning</td>\n",
       "    </tr>\n",
       "    <tr>\n",
       "      <th>3</th>\n",
       "      <td>3</td>\n",
       "      <td>10:53</td>\n",
       "      <td>1</td>\n",
       "      <td>50</td>\n",
       "      <td>95</td>\n",
       "      <td>M</td>\n",
       "      <td>Large</td>\n",
       "      <td>Middle Aged</td>\n",
       "      <td>Morning</td>\n",
       "    </tr>\n",
       "    <tr>\n",
       "      <th>4</th>\n",
       "      <td>4</td>\n",
       "      <td>10:56</td>\n",
       "      <td>1</td>\n",
       "      <td>60</td>\n",
       "      <td>90</td>\n",
       "      <td>F</td>\n",
       "      <td>Medium</td>\n",
       "      <td>Middle Aged</td>\n",
       "      <td>Morning</td>\n",
       "    </tr>\n",
       "  </tbody>\n",
       "</table>\n",
       "</div>"
      ],
      "text/plain": [
       "   index   Time  Group  Age  Confidence Gender Bag Size    Age group  \\\n",
       "0      0  10:50      1   70          95      F   Medium          Old   \n",
       "1      1  10:52      1   60          90      F    Large  Middle Aged   \n",
       "2      2  10:53      1   70          95      M    Small          Old   \n",
       "3      3  10:53      1   50          95      M    Large  Middle Aged   \n",
       "4      4  10:56      1   60          90      F   Medium  Middle Aged   \n",
       "\n",
       "  Time of the Day  \n",
       "0         Morning  \n",
       "1         Morning  \n",
       "2         Morning  \n",
       "3         Morning  \n",
       "4         Morning  "
      ]
     },
     "execution_count": 18,
     "metadata": {},
     "output_type": "execute_result"
    }
   ],
   "source": [
    "data['Time of the Day'] = data['Time'].apply(daytime)\n",
    "\n",
    "data.head()"
   ]
  },
  {
   "cell_type": "code",
   "execution_count": 28,
   "metadata": {},
   "outputs": [],
   "source": [
    "def group(row):\n",
    "    if row > 1:\n",
    "        return 'Not alone'\n",
    "    else:\n",
    "        return 'Alone'"
   ]
  },
  {
   "cell_type": "code",
   "execution_count": 29,
   "metadata": {},
   "outputs": [],
   "source": [
    "data['Alone?'] = data['Group'].apply(group)"
   ]
  },
  {
   "cell_type": "code",
   "execution_count": 30,
   "metadata": {},
   "outputs": [],
   "source": [
    "data_clean = data[['index','Alone?','Confidence','Gender','Bag Size','Age group','Time of the Day']]"
   ]
  },
  {
   "cell_type": "code",
   "execution_count": 31,
   "metadata": {},
   "outputs": [
    {
     "data": {
      "text/plain": [
       "index               int64\n",
       "Alone?             object\n",
       "Confidence          int64\n",
       "Gender             object\n",
       "Bag Size           object\n",
       "Age group          object\n",
       "Time of the Day    object\n",
       "dtype: object"
      ]
     },
     "execution_count": 31,
     "metadata": {},
     "output_type": "execute_result"
    }
   ],
   "source": [
    "# EDA\n",
    "\n",
    "data_clean.dtypes"
   ]
  },
  {
   "cell_type": "code",
   "execution_count": 32,
   "metadata": {},
   "outputs": [
    {
     "data": {
      "text/plain": [
       "F    70\n",
       "M    43\n",
       "Name: Gender, dtype: int64"
      ]
     },
     "execution_count": 32,
     "metadata": {},
     "output_type": "execute_result"
    }
   ],
   "source": [
    "data_clean['Gender'].value_counts()"
   ]
  },
  {
   "cell_type": "code",
   "execution_count": 33,
   "metadata": {},
   "outputs": [
    {
     "data": {
      "text/plain": [
       "Small         42\n",
       "Medium        38\n",
       "Large         27\n",
       "Very Large     6\n",
       "Name: Bag Size, dtype: int64"
      ]
     },
     "execution_count": 33,
     "metadata": {},
     "output_type": "execute_result"
    }
   ],
   "source": [
    "data_clean['Bag Size'].value_counts()"
   ]
  },
  {
   "cell_type": "code",
   "execution_count": 34,
   "metadata": {},
   "outputs": [
    {
     "data": {
      "text/plain": [
       "Alone        82\n",
       "Not alone    31\n",
       "Name: Alone?, dtype: int64"
      ]
     },
     "execution_count": 34,
     "metadata": {},
     "output_type": "execute_result"
    }
   ],
   "source": [
    "data_clean['Alone?'].value_counts()"
   ]
  },
  {
   "cell_type": "code",
   "execution_count": 21,
   "metadata": {},
   "outputs": [
    {
     "data": {
      "text/html": [
       "<div>\n",
       "<style scoped>\n",
       "    .dataframe tbody tr th:only-of-type {\n",
       "        vertical-align: middle;\n",
       "    }\n",
       "\n",
       "    .dataframe tbody tr th {\n",
       "        vertical-align: top;\n",
       "    }\n",
       "\n",
       "    .dataframe thead th {\n",
       "        text-align: right;\n",
       "    }\n",
       "</style>\n",
       "<table border=\"1\" class=\"dataframe\">\n",
       "  <thead>\n",
       "    <tr style=\"text-align: right;\">\n",
       "      <th></th>\n",
       "      <th>index</th>\n",
       "      <th>Group</th>\n",
       "      <th>Confidence</th>\n",
       "    </tr>\n",
       "  </thead>\n",
       "  <tbody>\n",
       "    <tr>\n",
       "      <th>count</th>\n",
       "      <td>113.00000</td>\n",
       "      <td>113.000000</td>\n",
       "      <td>113.000000</td>\n",
       "    </tr>\n",
       "    <tr>\n",
       "      <th>mean</th>\n",
       "      <td>56.00000</td>\n",
       "      <td>1.353982</td>\n",
       "      <td>91.070796</td>\n",
       "    </tr>\n",
       "    <tr>\n",
       "      <th>std</th>\n",
       "      <td>32.76431</td>\n",
       "      <td>0.625648</td>\n",
       "      <td>3.496725</td>\n",
       "    </tr>\n",
       "    <tr>\n",
       "      <th>min</th>\n",
       "      <td>0.00000</td>\n",
       "      <td>1.000000</td>\n",
       "      <td>80.000000</td>\n",
       "    </tr>\n",
       "    <tr>\n",
       "      <th>25%</th>\n",
       "      <td>28.00000</td>\n",
       "      <td>1.000000</td>\n",
       "      <td>90.000000</td>\n",
       "    </tr>\n",
       "    <tr>\n",
       "      <th>50%</th>\n",
       "      <td>56.00000</td>\n",
       "      <td>1.000000</td>\n",
       "      <td>90.000000</td>\n",
       "    </tr>\n",
       "    <tr>\n",
       "      <th>75%</th>\n",
       "      <td>84.00000</td>\n",
       "      <td>2.000000</td>\n",
       "      <td>95.000000</td>\n",
       "    </tr>\n",
       "    <tr>\n",
       "      <th>max</th>\n",
       "      <td>112.00000</td>\n",
       "      <td>3.000000</td>\n",
       "      <td>99.000000</td>\n",
       "    </tr>\n",
       "  </tbody>\n",
       "</table>\n",
       "</div>"
      ],
      "text/plain": [
       "           index       Group  Confidence\n",
       "count  113.00000  113.000000  113.000000\n",
       "mean    56.00000    1.353982   91.070796\n",
       "std     32.76431    0.625648    3.496725\n",
       "min      0.00000    1.000000   80.000000\n",
       "25%     28.00000    1.000000   90.000000\n",
       "50%     56.00000    1.000000   90.000000\n",
       "75%     84.00000    2.000000   95.000000\n",
       "max    112.00000    3.000000   99.000000"
      ]
     },
     "execution_count": 21,
     "metadata": {},
     "output_type": "execute_result"
    }
   ],
   "source": [
    "data_clean.describe()"
   ]
  },
  {
   "cell_type": "code",
   "execution_count": 23,
   "metadata": {},
   "outputs": [
    {
     "data": {
      "text/html": [
       "<div>\n",
       "<style scoped>\n",
       "    .dataframe tbody tr th:only-of-type {\n",
       "        vertical-align: middle;\n",
       "    }\n",
       "\n",
       "    .dataframe tbody tr th {\n",
       "        vertical-align: top;\n",
       "    }\n",
       "\n",
       "    .dataframe thead th {\n",
       "        text-align: right;\n",
       "    }\n",
       "</style>\n",
       "<table border=\"1\" class=\"dataframe\">\n",
       "  <thead>\n",
       "    <tr style=\"text-align: right;\">\n",
       "      <th></th>\n",
       "      <th></th>\n",
       "      <th>Bag Size</th>\n",
       "    </tr>\n",
       "    <tr>\n",
       "      <th>Age group</th>\n",
       "      <th>Bag Size</th>\n",
       "      <th></th>\n",
       "    </tr>\n",
       "  </thead>\n",
       "  <tbody>\n",
       "    <tr>\n",
       "      <th rowspan=\"4\" valign=\"top\">Middle Aged</th>\n",
       "      <th>Large</th>\n",
       "      <td>23</td>\n",
       "    </tr>\n",
       "    <tr>\n",
       "      <th>Medium</th>\n",
       "      <td>23</td>\n",
       "    </tr>\n",
       "    <tr>\n",
       "      <th>Small</th>\n",
       "      <td>22</td>\n",
       "    </tr>\n",
       "    <tr>\n",
       "      <th>Very Large</th>\n",
       "      <td>4</td>\n",
       "    </tr>\n",
       "    <tr>\n",
       "      <th rowspan=\"4\" valign=\"top\">Old</th>\n",
       "      <th>Large</th>\n",
       "      <td>3</td>\n",
       "    </tr>\n",
       "    <tr>\n",
       "      <th>Medium</th>\n",
       "      <td>9</td>\n",
       "    </tr>\n",
       "    <tr>\n",
       "      <th>Small</th>\n",
       "      <td>6</td>\n",
       "    </tr>\n",
       "    <tr>\n",
       "      <th>Very Large</th>\n",
       "      <td>1</td>\n",
       "    </tr>\n",
       "    <tr>\n",
       "      <th rowspan=\"4\" valign=\"top\">Young</th>\n",
       "      <th>Large</th>\n",
       "      <td>1</td>\n",
       "    </tr>\n",
       "    <tr>\n",
       "      <th>Medium</th>\n",
       "      <td>6</td>\n",
       "    </tr>\n",
       "    <tr>\n",
       "      <th>Small</th>\n",
       "      <td>14</td>\n",
       "    </tr>\n",
       "    <tr>\n",
       "      <th>Very Large</th>\n",
       "      <td>1</td>\n",
       "    </tr>\n",
       "  </tbody>\n",
       "</table>\n",
       "</div>"
      ],
      "text/plain": [
       "                        Bag Size\n",
       "Age group   Bag Size            \n",
       "Middle Aged Large             23\n",
       "            Medium            23\n",
       "            Small             22\n",
       "            Very Large         4\n",
       "Old         Large              3\n",
       "            Medium             9\n",
       "            Small              6\n",
       "            Very Large         1\n",
       "Young       Large              1\n",
       "            Medium             6\n",
       "            Small             14\n",
       "            Very Large         1"
      ]
     },
     "execution_count": 23,
     "metadata": {},
     "output_type": "execute_result"
    }
   ],
   "source": [
    "data_clean.groupby(['Age group','Bag Size']).agg({'Bag Size':'count'})"
   ]
  },
  {
   "cell_type": "code",
   "execution_count": 24,
   "metadata": {},
   "outputs": [
    {
     "data": {
      "text/html": [
       "<div>\n",
       "<style scoped>\n",
       "    .dataframe tbody tr th:only-of-type {\n",
       "        vertical-align: middle;\n",
       "    }\n",
       "\n",
       "    .dataframe tbody tr th {\n",
       "        vertical-align: top;\n",
       "    }\n",
       "\n",
       "    .dataframe thead th {\n",
       "        text-align: right;\n",
       "    }\n",
       "</style>\n",
       "<table border=\"1\" class=\"dataframe\">\n",
       "  <thead>\n",
       "    <tr style=\"text-align: right;\">\n",
       "      <th></th>\n",
       "      <th></th>\n",
       "      <th>Time of the Day</th>\n",
       "    </tr>\n",
       "    <tr>\n",
       "      <th>Age group</th>\n",
       "      <th>Time of the Day</th>\n",
       "      <th></th>\n",
       "    </tr>\n",
       "  </thead>\n",
       "  <tbody>\n",
       "    <tr>\n",
       "      <th rowspan=\"3\" valign=\"top\">Middle Aged</th>\n",
       "      <th>Afternoon</th>\n",
       "      <td>20</td>\n",
       "    </tr>\n",
       "    <tr>\n",
       "      <th>Morning</th>\n",
       "      <td>36</td>\n",
       "    </tr>\n",
       "    <tr>\n",
       "      <th>Night</th>\n",
       "      <td>16</td>\n",
       "    </tr>\n",
       "    <tr>\n",
       "      <th rowspan=\"3\" valign=\"top\">Old</th>\n",
       "      <th>Afternoon</th>\n",
       "      <td>6</td>\n",
       "    </tr>\n",
       "    <tr>\n",
       "      <th>Morning</th>\n",
       "      <td>11</td>\n",
       "    </tr>\n",
       "    <tr>\n",
       "      <th>Night</th>\n",
       "      <td>2</td>\n",
       "    </tr>\n",
       "    <tr>\n",
       "      <th rowspan=\"3\" valign=\"top\">Young</th>\n",
       "      <th>Afternoon</th>\n",
       "      <td>9</td>\n",
       "    </tr>\n",
       "    <tr>\n",
       "      <th>Morning</th>\n",
       "      <td>3</td>\n",
       "    </tr>\n",
       "    <tr>\n",
       "      <th>Night</th>\n",
       "      <td>10</td>\n",
       "    </tr>\n",
       "  </tbody>\n",
       "</table>\n",
       "</div>"
      ],
      "text/plain": [
       "                             Time of the Day\n",
       "Age group   Time of the Day                 \n",
       "Middle Aged Afternoon                     20\n",
       "            Morning                       36\n",
       "            Night                         16\n",
       "Old         Afternoon                      6\n",
       "            Morning                       11\n",
       "            Night                          2\n",
       "Young       Afternoon                      9\n",
       "            Morning                        3\n",
       "            Night                         10"
      ]
     },
     "execution_count": 24,
     "metadata": {},
     "output_type": "execute_result"
    }
   ],
   "source": [
    "data_clean.groupby(['Age group','Time of the Day']).agg({'Time of the Day':'count'})"
   ]
  },
  {
   "cell_type": "code",
   "execution_count": 25,
   "metadata": {},
   "outputs": [
    {
     "data": {
      "text/html": [
       "<div>\n",
       "<style scoped>\n",
       "    .dataframe tbody tr th:only-of-type {\n",
       "        vertical-align: middle;\n",
       "    }\n",
       "\n",
       "    .dataframe tbody tr th {\n",
       "        vertical-align: top;\n",
       "    }\n",
       "\n",
       "    .dataframe thead th {\n",
       "        text-align: right;\n",
       "    }\n",
       "</style>\n",
       "<table border=\"1\" class=\"dataframe\">\n",
       "  <thead>\n",
       "    <tr style=\"text-align: right;\">\n",
       "      <th></th>\n",
       "      <th></th>\n",
       "      <th>Time of the Day</th>\n",
       "    </tr>\n",
       "    <tr>\n",
       "      <th>Bag Size</th>\n",
       "      <th>Time of the Day</th>\n",
       "      <th></th>\n",
       "    </tr>\n",
       "  </thead>\n",
       "  <tbody>\n",
       "    <tr>\n",
       "      <th rowspan=\"3\" valign=\"top\">Large</th>\n",
       "      <th>Afternoon</th>\n",
       "      <td>6</td>\n",
       "    </tr>\n",
       "    <tr>\n",
       "      <th>Morning</th>\n",
       "      <td>12</td>\n",
       "    </tr>\n",
       "    <tr>\n",
       "      <th>Night</th>\n",
       "      <td>9</td>\n",
       "    </tr>\n",
       "    <tr>\n",
       "      <th rowspan=\"3\" valign=\"top\">Medium</th>\n",
       "      <th>Afternoon</th>\n",
       "      <td>9</td>\n",
       "    </tr>\n",
       "    <tr>\n",
       "      <th>Morning</th>\n",
       "      <td>17</td>\n",
       "    </tr>\n",
       "    <tr>\n",
       "      <th>Night</th>\n",
       "      <td>12</td>\n",
       "    </tr>\n",
       "    <tr>\n",
       "      <th rowspan=\"3\" valign=\"top\">Small</th>\n",
       "      <th>Afternoon</th>\n",
       "      <td>16</td>\n",
       "    </tr>\n",
       "    <tr>\n",
       "      <th>Morning</th>\n",
       "      <td>19</td>\n",
       "    </tr>\n",
       "    <tr>\n",
       "      <th>Night</th>\n",
       "      <td>7</td>\n",
       "    </tr>\n",
       "    <tr>\n",
       "      <th rowspan=\"2\" valign=\"top\">Very Large</th>\n",
       "      <th>Afternoon</th>\n",
       "      <td>4</td>\n",
       "    </tr>\n",
       "    <tr>\n",
       "      <th>Morning</th>\n",
       "      <td>2</td>\n",
       "    </tr>\n",
       "  </tbody>\n",
       "</table>\n",
       "</div>"
      ],
      "text/plain": [
       "                            Time of the Day\n",
       "Bag Size   Time of the Day                 \n",
       "Large      Afternoon                      6\n",
       "           Morning                       12\n",
       "           Night                          9\n",
       "Medium     Afternoon                      9\n",
       "           Morning                       17\n",
       "           Night                         12\n",
       "Small      Afternoon                     16\n",
       "           Morning                       19\n",
       "           Night                          7\n",
       "Very Large Afternoon                      4\n",
       "           Morning                        2"
      ]
     },
     "execution_count": 25,
     "metadata": {},
     "output_type": "execute_result"
    }
   ],
   "source": [
    "data_clean.groupby(['Bag Size','Time of the Day']).agg({'Time of the Day':'count'})"
   ]
  },
  {
   "cell_type": "code",
   "execution_count": 137,
   "metadata": {},
   "outputs": [
    {
     "data": {
      "image/png": "[encoded data removed]",
      "text/plain": [
       "<Figure size 576x432 with 2 Axes>"
      ]
     },
     "metadata": {
      "needs_background": "light"
     },
     "output_type": "display_data"
    }
   ],
   "source": [
    "fig, axs = plt.subplots(1,2, figsize=(8,6))\n",
    "fig.suptitle('Middle Aged behaviour')\n",
    "axs[0].hist(data_clean[data_clean['Age group'] == 'Middle Aged'][['Bag Size']])\n",
    "axs[1].hist(data_clean[data_clean['Age group'] == 'Middle Aged'][['Time of the Day']])\n",
    "\n",
    "plt.show()"
   ]
  },
  {
   "cell_type": "code",
   "execution_count": null,
   "metadata": {},
   "outputs": [],
   "source": [
    "# Data enrichment\n",
    "\n",
    "# Temperature?\n",
    "# Poverty rate?"
   ]
  },
  {
   "cell_type": "code",
   "execution_count": 36,
   "metadata": {},
   "outputs": [],
   "source": [
    "def temperature(row):\n",
    "    if row == 'Morning':\n",
    "        return 25\n",
    "    elif row == 'Night':\n",
    "        return 18\n",
    "    else:\n",
    "        return 27"
   ]
  },
  {
   "cell_type": "code",
   "execution_count": 42,
   "metadata": {},
   "outputs": [],
   "source": [
    "def poverty(row):\n",
    "    if row == 'Old':\n",
    "        return 17.5\n",
    "    elif row == 'Middle Aged':\n",
    "        return 14.9\n",
    "    else:\n",
    "        return 19.1"
   ]
  },
  {
   "cell_type": "code",
   "execution_count": 39,
   "metadata": {},
   "outputs": [
    {
     "name": "stderr",
     "output_type": "stream",
     "text": [
      "<ipython-input-39-1afd7d7207bd>:1: SettingWithCopyWarning: \n",
      "A value is trying to be set on a copy of a slice from a DataFrame.\n",
      "Try using .loc[row_indexer,col_indexer] = value instead\n",
      "\n",
      "See the caveats in the documentation: https://pandas.pydata.org/pandas-docs/stable/user_guide/indexing.html#returning-a-view-versus-a-copy\n",
      "  data_clean['Temperature'] = data_clean['Time of the Day'].apply(temperature)\n"
     ]
    }
   ],
   "source": [
    "data_clean['Temperature'] = data_clean['Time of the Day'].apply(temperature)"
   ]
  },
  {
   "cell_type": "code",
   "execution_count": 43,
   "metadata": {},
   "outputs": [
    {
     "name": "stderr",
     "output_type": "stream",
     "text": [
      "<ipython-input-43-3f328ff41cd1>:1: SettingWithCopyWarning: \n",
      "A value is trying to be set on a copy of a slice from a DataFrame.\n",
      "Try using .loc[row_indexer,col_indexer] = value instead\n",
      "\n",
      "See the caveats in the documentation: https://pandas.pydata.org/pandas-docs/stable/user_guide/indexing.html#returning-a-view-versus-a-copy\n",
      "  data_clean['Poverty Rate'] = data_clean['Age group'].apply(poverty)\n"
     ]
    }
   ],
   "source": [
    "data_clean['Poverty Rate'] = data_clean['Age group'].apply(poverty)"
   ]
  },
  {
   "cell_type": "code",
   "execution_count": 44,
   "metadata": {},
   "outputs": [
    {
     "data": {
      "text/html": [
       "<div>\n",
       "<style scoped>\n",
       "    .dataframe tbody tr th:only-of-type {\n",
       "        vertical-align: middle;\n",
       "    }\n",
       "\n",
       "    .dataframe tbody tr th {\n",
       "        vertical-align: top;\n",
       "    }\n",
       "\n",
       "    .dataframe thead th {\n",
       "        text-align: right;\n",
       "    }\n",
       "</style>\n",
       "<table border=\"1\" class=\"dataframe\">\n",
       "  <thead>\n",
       "    <tr style=\"text-align: right;\">\n",
       "      <th></th>\n",
       "      <th>index</th>\n",
       "      <th>Alone?</th>\n",
       "      <th>Confidence</th>\n",
       "      <th>Gender</th>\n",
       "      <th>Bag Size</th>\n",
       "      <th>Age group</th>\n",
       "      <th>Time of the Day</th>\n",
       "      <th>Temperature</th>\n",
       "      <th>Poverty Rate</th>\n",
       "    </tr>\n",
       "  </thead>\n",
       "  <tbody>\n",
       "    <tr>\n",
       "      <th>0</th>\n",
       "      <td>0</td>\n",
       "      <td>Alone</td>\n",
       "      <td>95</td>\n",
       "      <td>F</td>\n",
       "      <td>Medium</td>\n",
       "      <td>Old</td>\n",
       "      <td>Morning</td>\n",
       "      <td>25</td>\n",
       "      <td>17.5</td>\n",
       "    </tr>\n",
       "    <tr>\n",
       "      <th>1</th>\n",
       "      <td>1</td>\n",
       "      <td>Alone</td>\n",
       "      <td>90</td>\n",
       "      <td>F</td>\n",
       "      <td>Large</td>\n",
       "      <td>Middle Aged</td>\n",
       "      <td>Morning</td>\n",
       "      <td>25</td>\n",
       "      <td>14.9</td>\n",
       "    </tr>\n",
       "    <tr>\n",
       "      <th>2</th>\n",
       "      <td>2</td>\n",
       "      <td>Alone</td>\n",
       "      <td>95</td>\n",
       "      <td>M</td>\n",
       "      <td>Small</td>\n",
       "      <td>Old</td>\n",
       "      <td>Morning</td>\n",
       "      <td>25</td>\n",
       "      <td>17.5</td>\n",
       "    </tr>\n",
       "    <tr>\n",
       "      <th>3</th>\n",
       "      <td>3</td>\n",
       "      <td>Alone</td>\n",
       "      <td>95</td>\n",
       "      <td>M</td>\n",
       "      <td>Large</td>\n",
       "      <td>Middle Aged</td>\n",
       "      <td>Morning</td>\n",
       "      <td>25</td>\n",
       "      <td>14.9</td>\n",
       "    </tr>\n",
       "    <tr>\n",
       "      <th>4</th>\n",
       "      <td>4</td>\n",
       "      <td>Alone</td>\n",
       "      <td>90</td>\n",
       "      <td>F</td>\n",
       "      <td>Medium</td>\n",
       "      <td>Middle Aged</td>\n",
       "      <td>Morning</td>\n",
       "      <td>25</td>\n",
       "      <td>14.9</td>\n",
       "    </tr>\n",
       "  </tbody>\n",
       "</table>\n",
       "</div>"
      ],
      "text/plain": [
       "   index Alone?  Confidence Gender Bag Size    Age group Time of the Day  \\\n",
       "0      0  Alone          95      F   Medium          Old         Morning   \n",
       "1      1  Alone          90      F    Large  Middle Aged         Morning   \n",
       "2      2  Alone          95      M    Small          Old         Morning   \n",
       "3      3  Alone          95      M    Large  Middle Aged         Morning   \n",
       "4      4  Alone          90      F   Medium  Middle Aged         Morning   \n",
       "\n",
       "   Temperature  Poverty Rate  \n",
       "0           25          17.5  \n",
       "1           25          14.9  \n",
       "2           25          17.5  \n",
       "3           25          14.9  \n",
       "4           25          14.9  "
      ]
     },
     "execution_count": 44,
     "metadata": {},
     "output_type": "execute_result"
    }
   ],
   "source": [
    "# Statistical analysis\n",
    "\n",
    "data_clean.head()\n",
    "\n",
    "# naive bayes ( P (Small|Young))\n",
    "# "
   ]
  },
  {
   "cell_type": "code",
   "execution_count": 87,
   "metadata": {},
   "outputs": [],
   "source": [
    "# contigency table\n",
    "\n",
    "test = data_clean[['Age group','Bag Size']]\n",
    "\n",
    "test = pd.get_dummies(test, columns=['Bag Size'])\n",
    "\n",
    "test = test.groupby('Age group').agg('sum').reset_index()"
   ]
  },
  {
   "cell_type": "code",
   "execution_count": 88,
   "metadata": {},
   "outputs": [
    {
     "data": {
      "text/html": [
       "<div>\n",
       "<style scoped>\n",
       "    .dataframe tbody tr th:only-of-type {\n",
       "        vertical-align: middle;\n",
       "    }\n",
       "\n",
       "    .dataframe tbody tr th {\n",
       "        vertical-align: top;\n",
       "    }\n",
       "\n",
       "    .dataframe thead th {\n",
       "        text-align: right;\n",
       "    }\n",
       "</style>\n",
       "<table border=\"1\" class=\"dataframe\">\n",
       "  <thead>\n",
       "    <tr style=\"text-align: right;\">\n",
       "      <th></th>\n",
       "      <th>Age group</th>\n",
       "      <th>Bag Size_Large</th>\n",
       "      <th>Bag Size_Medium</th>\n",
       "      <th>Bag Size_Small</th>\n",
       "      <th>Bag Size_Very Large</th>\n",
       "    </tr>\n",
       "  </thead>\n",
       "  <tbody>\n",
       "    <tr>\n",
       "      <th>0</th>\n",
       "      <td>Middle Aged</td>\n",
       "      <td>23</td>\n",
       "      <td>23</td>\n",
       "      <td>22</td>\n",
       "      <td>4</td>\n",
       "    </tr>\n",
       "    <tr>\n",
       "      <th>1</th>\n",
       "      <td>Old</td>\n",
       "      <td>3</td>\n",
       "      <td>9</td>\n",
       "      <td>6</td>\n",
       "      <td>1</td>\n",
       "    </tr>\n",
       "    <tr>\n",
       "      <th>2</th>\n",
       "      <td>Young</td>\n",
       "      <td>1</td>\n",
       "      <td>6</td>\n",
       "      <td>14</td>\n",
       "      <td>1</td>\n",
       "    </tr>\n",
       "  </tbody>\n",
       "</table>\n",
       "</div>"
      ],
      "text/plain": [
       "     Age group  Bag Size_Large  Bag Size_Medium  Bag Size_Small  \\\n",
       "0  Middle Aged              23               23              22   \n",
       "1          Old               3                9               6   \n",
       "2        Young               1                6              14   \n",
       "\n",
       "   Bag Size_Very Large  \n",
       "0                    4  \n",
       "1                    1  \n",
       "2                    1  "
      ]
     },
     "execution_count": 88,
     "metadata": {},
     "output_type": "execute_result"
    }
   ],
   "source": [
    "test"
   ]
  },
  {
   "cell_type": "code",
   "execution_count": 95,
   "metadata": {},
   "outputs": [
    {
     "name": "stdout",
     "output_type": "stream",
     "text": [
      "The probability of the person being young given that it carries a small bag is: 0.3181818181818182\n",
      "The probability of the person being old given that it carries a very large bag is: 0.16666666666666666\n"
     ]
    }
   ],
   "source": [
    "# bayes theorem (P (S|Y))\n",
    "\n",
    "p_young = 22/113\n",
    "p_small = 44/113\n",
    "\n",
    "p_young_small = 14/113\n",
    "\n",
    "p_young_given_small = p_young_small/p_small\n",
    "\n",
    "print('The probability of the person being young given that it carries a small bag is: ' + str(p_young_given_small))\n",
    "\n",
    "p_old = 19/113\n",
    "\n",
    "p_very_large = 6/113\n",
    "\n",
    "p_old_very_large = 1/113\n",
    "\n",
    "p_old_given_very_large = p_old_very_large/p_very_large\n",
    "\n",
    "print('The probability of the person being old given that it carries a very large bag is: ' + str(p_old_given_very_large))"
   ]
  },
  {
   "cell_type": "code",
   "execution_count": 107,
   "metadata": {},
   "outputs": [
    {
     "data": {
      "text/html": [
       "<div>\n",
       "<style scoped>\n",
       "    .dataframe tbody tr th:only-of-type {\n",
       "        vertical-align: middle;\n",
       "    }\n",
       "\n",
       "    .dataframe tbody tr th {\n",
       "        vertical-align: top;\n",
       "    }\n",
       "\n",
       "    .dataframe thead th {\n",
       "        text-align: right;\n",
       "    }\n",
       "</style>\n",
       "<table border=\"1\" class=\"dataframe\">\n",
       "  <thead>\n",
       "    <tr style=\"text-align: right;\">\n",
       "      <th></th>\n",
       "      <th>Bag Size</th>\n",
       "      <th>Time of the Day</th>\n",
       "    </tr>\n",
       "  </thead>\n",
       "  <tbody>\n",
       "    <tr>\n",
       "      <th>0</th>\n",
       "      <td>Medium</td>\n",
       "      <td>Morning</td>\n",
       "    </tr>\n",
       "    <tr>\n",
       "      <th>1</th>\n",
       "      <td>Large</td>\n",
       "      <td>Morning</td>\n",
       "    </tr>\n",
       "    <tr>\n",
       "      <th>2</th>\n",
       "      <td>Small</td>\n",
       "      <td>Morning</td>\n",
       "    </tr>\n",
       "    <tr>\n",
       "      <th>3</th>\n",
       "      <td>Large</td>\n",
       "      <td>Morning</td>\n",
       "    </tr>\n",
       "    <tr>\n",
       "      <th>4</th>\n",
       "      <td>Medium</td>\n",
       "      <td>Morning</td>\n",
       "    </tr>\n",
       "    <tr>\n",
       "      <th>...</th>\n",
       "      <td>...</td>\n",
       "      <td>...</td>\n",
       "    </tr>\n",
       "    <tr>\n",
       "      <th>108</th>\n",
       "      <td>Small</td>\n",
       "      <td>Night</td>\n",
       "    </tr>\n",
       "    <tr>\n",
       "      <th>109</th>\n",
       "      <td>Small</td>\n",
       "      <td>Night</td>\n",
       "    </tr>\n",
       "    <tr>\n",
       "      <th>110</th>\n",
       "      <td>Small</td>\n",
       "      <td>Night</td>\n",
       "    </tr>\n",
       "    <tr>\n",
       "      <th>111</th>\n",
       "      <td>Medium</td>\n",
       "      <td>Night</td>\n",
       "    </tr>\n",
       "    <tr>\n",
       "      <th>112</th>\n",
       "      <td>Medium</td>\n",
       "      <td>Night</td>\n",
       "    </tr>\n",
       "  </tbody>\n",
       "</table>\n",
       "<p>113 rows × 2 columns</p>\n",
       "</div>"
      ],
      "text/plain": [
       "    Bag Size Time of the Day\n",
       "0     Medium         Morning\n",
       "1      Large         Morning\n",
       "2      Small         Morning\n",
       "3      Large         Morning\n",
       "4     Medium         Morning\n",
       "..       ...             ...\n",
       "108    Small           Night\n",
       "109    Small           Night\n",
       "110    Small           Night\n",
       "111   Medium           Night\n",
       "112   Medium           Night\n",
       "\n",
       "[113 rows x 2 columns]"
      ]
     },
     "execution_count": 107,
     "metadata": {},
     "output_type": "execute_result"
    }
   ],
   "source": [
    "test2 = data_clean[['Bag Size','Time of the Day']]\n",
    "test2"
   ]
  },
  {
   "cell_type": "code",
   "execution_count": 108,
   "metadata": {},
   "outputs": [],
   "source": [
    "test2 = pd.get_dummies(test2, columns=['Time of the Day'])\n",
    "\n",
    "test2 = test2.groupby('Bag Size').agg('sum').reset_index()"
   ]
  },
  {
   "cell_type": "code",
   "execution_count": 109,
   "metadata": {},
   "outputs": [
    {
     "data": {
      "text/html": [
       "<div>\n",
       "<style scoped>\n",
       "    .dataframe tbody tr th:only-of-type {\n",
       "        vertical-align: middle;\n",
       "    }\n",
       "\n",
       "    .dataframe tbody tr th {\n",
       "        vertical-align: top;\n",
       "    }\n",
       "\n",
       "    .dataframe thead th {\n",
       "        text-align: right;\n",
       "    }\n",
       "</style>\n",
       "<table border=\"1\" class=\"dataframe\">\n",
       "  <thead>\n",
       "    <tr style=\"text-align: right;\">\n",
       "      <th></th>\n",
       "      <th>Bag Size</th>\n",
       "      <th>Time of the Day_Afternoon</th>\n",
       "      <th>Time of the Day_Morning</th>\n",
       "      <th>Time of the Day_Night</th>\n",
       "    </tr>\n",
       "  </thead>\n",
       "  <tbody>\n",
       "    <tr>\n",
       "      <th>0</th>\n",
       "      <td>Large</td>\n",
       "      <td>6</td>\n",
       "      <td>12</td>\n",
       "      <td>9</td>\n",
       "    </tr>\n",
       "    <tr>\n",
       "      <th>1</th>\n",
       "      <td>Medium</td>\n",
       "      <td>9</td>\n",
       "      <td>17</td>\n",
       "      <td>12</td>\n",
       "    </tr>\n",
       "    <tr>\n",
       "      <th>2</th>\n",
       "      <td>Small</td>\n",
       "      <td>16</td>\n",
       "      <td>19</td>\n",
       "      <td>7</td>\n",
       "    </tr>\n",
       "    <tr>\n",
       "      <th>3</th>\n",
       "      <td>Very Large</td>\n",
       "      <td>4</td>\n",
       "      <td>2</td>\n",
       "      <td>0</td>\n",
       "    </tr>\n",
       "  </tbody>\n",
       "</table>\n",
       "</div>"
      ],
      "text/plain": [
       "     Bag Size  Time of the Day_Afternoon  Time of the Day_Morning  \\\n",
       "0       Large                          6                       12   \n",
       "1      Medium                          9                       17   \n",
       "2       Small                         16                       19   \n",
       "3  Very Large                          4                        2   \n",
       "\n",
       "   Time of the Day_Night  \n",
       "0                      9  \n",
       "1                     12  \n",
       "2                      7  \n",
       "3                      0  "
      ]
     },
     "execution_count": 109,
     "metadata": {},
     "output_type": "execute_result"
    }
   ],
   "source": [
    "test2"
   ]
  },
  {
   "cell_type": "code",
   "execution_count": 111,
   "metadata": {},
   "outputs": [
    {
     "name": "stdout",
     "output_type": "stream",
     "text": [
      "The probability of the person carry a small bag given that it is morning: 0.38\n",
      "The probability of the person carry a small bag given that is night: 0.25\n"
     ]
    }
   ],
   "source": [
    "# probability of small given that is morning\n",
    "\n",
    "# probability of small given that is night\n",
    "\n",
    "p_small = 42/113\n",
    "p_morning = 50/113\n",
    "\n",
    "p_small_morning = 19/113\n",
    "\n",
    "p_small_given_morning = p_small_morning/p_morning\n",
    "\n",
    "print('The probability of the person carry a small bag given that it is morning: ' + str(p_small_given_morning))\n",
    "\n",
    "p_small = 42/113\n",
    "\n",
    "p_night = 28/113\n",
    "\n",
    "p_small_night = 7/113\n",
    "\n",
    "p_small_given_night = p_small_night/p_night\n",
    "\n",
    "print('The probability of the person carry a small bag given that is night: ' + str(p_small_given_night))"
   ]
  },
  {
   "cell_type": "code",
   "execution_count": null,
   "metadata": {},
   "outputs": [],
   "source": [
    "# Downloading data for Tableau"
   ]
  }
 ],
 "metadata": {
  "kernelspec": {
   "display_name": "Python 3",
   "language": "python",
   "name": "python3"
  },
  "language_info": {
   "codemirror_mode": {
    "name": "ipython",
    "version": 3
   },
   "file_extension": ".py",
   "mimetype": "text/x-python",
   "name": "python",
   "nbconvert_exporter": "python",
   "pygments_lexer": "ipython3",
   "version": "3.8.5"
  }
 },
 "nbformat": 4,
 "nbformat_minor": 4
}
